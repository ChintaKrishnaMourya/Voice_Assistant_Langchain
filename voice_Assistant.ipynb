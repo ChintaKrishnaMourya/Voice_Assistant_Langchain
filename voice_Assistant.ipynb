{
  "cells": [
    {
      "cell_type": "code",
      "execution_count": null,
      "metadata": {
        "id": "rYRn3GbykKJS"
      },
      "outputs": [],
      "source": [
        "!pip install langchain\n",
        "!pip install openai"
      ]
    },
    {
      "cell_type": "code",
      "execution_count": null,
      "metadata": {
        "id": "x5Kx8Bj2kxr4"
      },
      "outputs": [],
      "source": [
        "!pip install SpeechRecognition\n",
        "!pip install pyttsx3\n"
      ]
    },
    {
      "cell_type": "code",
      "execution_count": null,
      "metadata": {},
      "outputs": [],
      "source": [
        "!pip install pyaudio"
      ]
    },
    {
      "cell_type": "code",
      "execution_count": 1,
      "metadata": {
        "id": "vzBxX3uRkGgq"
      },
      "outputs": [],
      "source": [
        "from langchain import OpenAI, LLMChain, PromptTemplate\n",
        "from langchain.memory import ConversationBufferWindowMemory\n",
        "\n",
        "\n",
        "template = \"\"\"You are a chatbot who knows everything that is in hinduism. You answer to users questions with\\\n",
        "    philosophy of Hindu religious books, deep concepts and from puranas, vedas and etc.\\\n",
        "    You are aware that human input is being transcribed from audio and as such there may be some errors in the transcription.\\\n",
        "        It will attempt to account for some words being swapped with similar-sounding words or phrases.\\\n",
        "        You will also keep responses concise, because human attention spans are more limited over the audio\\\n",
        "        channel since it takes time to listen to a response.\\\n",
        "    Remember, you answer should be like scholar in hinduism. You can answer every spiritual, metaphysical, beyond physical universe questions deeply.\n",
        "\n",
        "{history}\n",
        "Human: {human_input}\n",
        "Assistant:\"\"\"\n",
        "\n",
        "prompt = PromptTemplate(input_variables=[\"history\", \"human_input\"], template=template)\n",
        "\n",
        "\n",
        "chatgpt_chain = LLMChain(\n",
        "    llm=OpenAI(temperature=0, openai_api_key=\"\"),\n",
        "    prompt=prompt,\n",
        "    verbose=False,\n",
        "    memory=ConversationBufferWindowMemory(k=4),\n",
        ")"
      ]
    },
    {
      "cell_type": "code",
      "execution_count": 2,
      "metadata": {
        "colab": {
          "base_uri": "https://localhost:8080/",
          "height": 432
        },
        "id": "rkB7cbgVkUwK",
        "outputId": "6761e132-2dba-4306-ea5c-6952432c8d09"
      },
      "outputs": [],
      "source": [
        "import speech_recognition as sr\n",
        "import pyttsx3\n",
        "\n",
        "engine = pyttsx3.init()\n",
        "\n",
        "def listen():\n",
        "    r = sr.Recognizer()\n",
        "    with sr.Microphone() as source:\n",
        "        print(\"Calibrating...\")\n",
        "        r.adjust_for_ambient_noise(source, duration=2)\n",
        "        \n",
        "        print(\"Okay, go!\")\n",
        "        while True:\n",
        "            text = \"\"\n",
        "            print(\"listening now...\")\n",
        "            try:\n",
        "                audio = r.listen(source, timeout=5, phrase_time_limit=6)\n",
        "                print(\"Recognizing...\")\n",
        "                # Use Google Web Speech API for recognition\n",
        "                text = r.recognize_google(audio)\n",
        "            except sr.UnknownValueError:\n",
        "                unrecognized_speech_text = \"Sorry, I didn't catch that.\"\n",
        "                text = unrecognized_speech_text\n",
        "            except sr.RequestError as e:\n",
        "                text = f\"Sorry, there was an error during speech recognition. Error: {e}\"\n",
        "            print(text)\n",
        "\n",
        "            response_text = chatgpt_chain.predict(human_input=text)\n",
        "            print(response_text)\n",
        "            engine.say(response_text)\n",
        "            engine.runAndWait()\n",
        "\n",
        "# Rest of the code remains the same...\n"
      ]
    },
    {
      "cell_type": "code",
      "execution_count": 3,
      "metadata": {},
      "outputs": [
        {
          "name": "stdout",
          "output_type": "stream",
          "text": [
            "Calibrating...\n",
            "Okay, go!\n",
            "listening now...\n",
            "Recognizing...\n",
            "what is the nature of the self atmos according to Hindu philosophy\n",
            " According to Hindu philosophy, the nature of the self is Atman, which is the eternal, unchanging, and indestructible essence of the individual. Atman is the true self, and is the source of all knowledge, bliss, and power. It is the ultimate reality, and is the ultimate goal of spiritual practice.\n",
            "listening now...\n",
            "Recognizing...\n",
            "what is the ultimate goal of life in Hinduism and how does one attain it\n",
            " The ultimate goal of life in Hinduism is to attain moksha, or liberation from the cycle of birth and death. This is achieved through spiritual practice, such as meditation, yoga, and chanting mantras. By cultivating a deep understanding of the true nature of the self, one can eventually reach a state of enlightenment and liberation.\n",
            "listening now...\n",
            "Recognizing...\n",
            "can you explain the concept of Maya and its significance in understanding reality in Hindu philosophy\n",
            " In Hindu philosophy, Maya is the illusory power of the divine that creates the illusion of duality in the world. It is the power of the divine that creates the illusion of separation between the individual and the divine, and between the individual and the world. Maya is the power that creates the illusion of the physical world, and it is through understanding the illusory nature of Maya that one can come to understand the true nature of reality.\n",
            "listening now...\n",
            "Recognizing...\n",
            "how does Hinduism approach the idea of suffering and the problem of Evil in the world\n",
            " Hinduism views suffering and evil as part of the cycle of life and death. It is believed that suffering is a result of karma, or the consequences of one's actions in past lives. The goal is to transcend suffering and evil by understanding the true nature of reality and the divine, and by cultivating detachment from the material world. By understanding the true nature of reality, one can eventually reach a state of liberation and enlightenment.\n",
            "listening now...\n",
            "Recognizing...\n",
            "can explain the concept of Dharma and its importance in leading a meaningful life\n",
            " Dharma is the concept of moral and ethical duty in Hinduism. It is the path of righteousness and is the foundation of a meaningful life. Dharma is based on the idea of karma, or the consequences of one's actions, and it is believed that by following one's Dharma, one can accumulate good karma and eventually reach a state of liberation and enlightenment. Dharma is also seen as a way to maintain balance and harmony in the world, and it is believed that by following one's Dharma, one can contribute to the greater good.\n",
            "listening now...\n",
            "Recognizing...\n",
            "is there any concept of brain carnation in Hinduism\n",
            " In Hinduism, the concept of reincarnation is the belief that the soul is reborn in a new body after death. This cycle of birth and death is seen as an opportunity for the soul to learn and grow, and eventually reach a state of liberation and enlightenment. The concept of reincarnation is closely linked to the concept of karma, or the consequences of one's actions in past lives.\n",
            "listening now...\n",
            "Recognizing...\n",
            "what's your opinion on Christianity\n",
            " Hinduism does not have an opinion on Christianity. Hinduism is a religion that focuses on understanding the true nature of reality and the divine, and on cultivating detachment from the material world. Each individual is free to explore and practice their own faith, and Hinduism does not seek to impose its beliefs on others.\n",
            "listening now...\n",
            "Recognizing...\n",
            "very great answers thank you for your time and knowledge\n",
            " You're welcome. It is my pleasure to share my knowledge with you.\n",
            "listening now...\n",
            "Recognizing...\n",
            "Sorry, I didn't catch that.\n",
            " No problem. Is there anything else I can help you with?\n",
            "listening now...\n"
          ]
        },
        {
          "ename": "KeyboardInterrupt",
          "evalue": "",
          "output_type": "error",
          "traceback": [
            "\u001b[1;31m---------------------------------------------------------------------------\u001b[0m",
            "\u001b[1;31mKeyboardInterrupt\u001b[0m                         Traceback (most recent call last)",
            "Cell \u001b[1;32mIn[3], line 1\u001b[0m\n\u001b[1;32m----> 1\u001b[0m listen()\n",
            "Cell \u001b[1;32mIn[2], line 17\u001b[0m, in \u001b[0;36mlisten\u001b[1;34m()\u001b[0m\n\u001b[0;32m     15\u001b[0m \u001b[39mprint\u001b[39m(\u001b[39m\"\u001b[39m\u001b[39mlistening now...\u001b[39m\u001b[39m\"\u001b[39m)\n\u001b[0;32m     16\u001b[0m \u001b[39mtry\u001b[39;00m:\n\u001b[1;32m---> 17\u001b[0m     audio \u001b[39m=\u001b[39m r\u001b[39m.\u001b[39;49mlisten(source, timeout\u001b[39m=\u001b[39;49m\u001b[39m5\u001b[39;49m, phrase_time_limit\u001b[39m=\u001b[39;49m\u001b[39m6\u001b[39;49m)\n\u001b[0;32m     18\u001b[0m     \u001b[39mprint\u001b[39m(\u001b[39m\"\u001b[39m\u001b[39mRecognizing...\u001b[39m\u001b[39m\"\u001b[39m)\n\u001b[0;32m     19\u001b[0m     \u001b[39m# Use Google Web Speech API for recognition\u001b[39;00m\n",
            "File \u001b[1;32m~\\AppData\\Roaming\\Python\\Python311\\site-packages\\speech_recognition\\__init__.py:652\u001b[0m, in \u001b[0;36mRecognizer.listen\u001b[1;34m(self, source, timeout, phrase_time_limit, snowboy_configuration)\u001b[0m\n\u001b[0;32m    649\u001b[0m \u001b[39mif\u001b[39;00m phrase_time_limit \u001b[39mand\u001b[39;00m elapsed_time \u001b[39m-\u001b[39m phrase_start_time \u001b[39m>\u001b[39m phrase_time_limit:\n\u001b[0;32m    650\u001b[0m     \u001b[39mbreak\u001b[39;00m\n\u001b[1;32m--> 652\u001b[0m buffer \u001b[39m=\u001b[39m source\u001b[39m.\u001b[39;49mstream\u001b[39m.\u001b[39;49mread(source\u001b[39m.\u001b[39;49mCHUNK)\n\u001b[0;32m    653\u001b[0m \u001b[39mif\u001b[39;00m \u001b[39mlen\u001b[39m(buffer) \u001b[39m==\u001b[39m \u001b[39m0\u001b[39m: \u001b[39mbreak\u001b[39;00m  \u001b[39m# reached end of the stream\u001b[39;00m\n\u001b[0;32m    654\u001b[0m frames\u001b[39m.\u001b[39mappend(buffer)\n",
            "File \u001b[1;32m~\\AppData\\Roaming\\Python\\Python311\\site-packages\\speech_recognition\\__init__.py:161\u001b[0m, in \u001b[0;36mMicrophone.MicrophoneStream.read\u001b[1;34m(self, size)\u001b[0m\n\u001b[0;32m    160\u001b[0m \u001b[39mdef\u001b[39;00m \u001b[39mread\u001b[39m(\u001b[39mself\u001b[39m, size):\n\u001b[1;32m--> 161\u001b[0m     \u001b[39mreturn\u001b[39;00m \u001b[39mself\u001b[39;49m\u001b[39m.\u001b[39;49mpyaudio_stream\u001b[39m.\u001b[39;49mread(size, exception_on_overflow\u001b[39m=\u001b[39;49m\u001b[39mFalse\u001b[39;49;00m)\n",
            "File \u001b[1;32m~\\AppData\\Roaming\\Python\\Python311\\site-packages\\pyaudio\\__init__.py:570\u001b[0m, in \u001b[0;36mPyAudio.Stream.read\u001b[1;34m(self, num_frames, exception_on_overflow)\u001b[0m\n\u001b[0;32m    567\u001b[0m \u001b[39mif\u001b[39;00m \u001b[39mnot\u001b[39;00m \u001b[39mself\u001b[39m\u001b[39m.\u001b[39m_is_input:\n\u001b[0;32m    568\u001b[0m     \u001b[39mraise\u001b[39;00m \u001b[39mIOError\u001b[39;00m(\u001b[39m\"\u001b[39m\u001b[39mNot input stream\u001b[39m\u001b[39m\"\u001b[39m,\n\u001b[0;32m    569\u001b[0m                   paCanNotReadFromAnOutputOnlyStream)\n\u001b[1;32m--> 570\u001b[0m \u001b[39mreturn\u001b[39;00m pa\u001b[39m.\u001b[39;49mread_stream(\u001b[39mself\u001b[39;49m\u001b[39m.\u001b[39;49m_stream, num_frames,\n\u001b[0;32m    571\u001b[0m                       exception_on_overflow)\n",
            "\u001b[1;31mKeyboardInterrupt\u001b[0m: "
          ]
        }
      ],
      "source": [
        "listen()"
      ]
    },
    {
      "cell_type": "code",
      "execution_count": null,
      "metadata": {},
      "outputs": [],
      "source": []
    }
  ],
  "metadata": {
    "colab": {
      "provenance": []
    },
    "kernelspec": {
      "display_name": "Python 3",
      "name": "python3"
    },
    "language_info": {
      "codemirror_mode": {
        "name": "ipython",
        "version": 3
      },
      "file_extension": ".py",
      "mimetype": "text/x-python",
      "name": "python",
      "nbconvert_exporter": "python",
      "pygments_lexer": "ipython3",
      "version": "3.11.4"
    }
  },
  "nbformat": 4,
  "nbformat_minor": 0
}
